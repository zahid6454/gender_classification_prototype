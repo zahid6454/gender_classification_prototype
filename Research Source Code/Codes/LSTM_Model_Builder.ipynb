{
  "nbformat": 4,
  "nbformat_minor": 0,
  "metadata": {
    "accelerator": "TPU",
    "colab": {
      "name": "Gender_Classification_LSTM_Model.ipynb",
      "provenance": [],
      "collapsed_sections": []
    },
    "kernelspec": {
      "display_name": "Python 3",
      "name": "python3"
    },
    "language_info": {
      "name": "python"
    }
  },
  "cells": [
    {
      "cell_type": "code",
      "metadata": {
        "colab": {
          "base_uri": "https://localhost:8080/"
        },
        "id": "sxKuZeA9tZp1",
        "outputId": "d68d7bfa-2ee9-4a13-b9dd-db673f8bf085"
      },
      "source": [
        "from google.colab import drive\n",
        "drive.mount('/content/drive')"
      ],
      "execution_count": null,
      "outputs": [
        {
          "output_type": "stream",
          "text": [
            "Drive already mounted at /content/drive; to attempt to forcibly remount, call drive.mount(\"/content/drive\", force_remount=True).\n"
          ],
          "name": "stdout"
        }
      ]
    },
    {
      "cell_type": "code",
      "metadata": {
        "id": "d2qkNwsntkqI"
      },
      "source": [
        "# Python Pckages\n",
        "import random\n",
        "import string\n",
        "import pandas as pd\n",
        "import numpy as np\n",
        "from tabulate import tabulate\n",
        "import matplotlib.pyplot as plt\n",
        "\n",
        "# ML Packages\n",
        "from sklearn import preprocessing\n",
        "from sklearn.model_selection import train_test_split\n",
        "from sklearn.model_selection import StratifiedKFold\n",
        "from sklearn.feature_extraction.text import CountVectorizer\n",
        "from sklearn.feature_extraction.text import TfidfVectorizer\n",
        "\n",
        "# ML Classifiers\n",
        "from sklearn.svm import SVC\n",
        "from sklearn.naive_bayes import MultinomialNB\n",
        "from sklearn.linear_model import LogisticRegression\n",
        "from sklearn.ensemble import RandomForestClassifier\n",
        "from sklearn.ensemble import AdaBoostClassifier\n",
        "from sklearn.ensemble import GradientBoostingClassifier\n",
        "\n",
        "# Deep ML Packages\n",
        "from sklearn.preprocessing import OneHotEncoder\n",
        "from tensorflow.keras.preprocessing import sequence\n",
        "from tensorflow.keras.models import Sequential\n",
        "from tensorflow.keras.layers import Dense, Embedding, Dense, Activation, Dropout, LSTM, Bidirectional\n",
        "from tensorflow.keras.callbacks import EarlyStopping, ModelCheckpoint, ReduceLROnPlateau\n",
        "from tensorflow.keras.regularizers import l2\n",
        "from tensorflow.keras.utils import plot_model\n",
        "import tensorflow as tf\n",
        "from tensorflow import keras\n",
        "\n",
        "# ML Metrics\n",
        "from sklearn.metrics import accuracy_score"
      ],
      "execution_count": null,
      "outputs": []
    },
    {
      "cell_type": "code",
      "metadata": {
        "colab": {
          "base_uri": "https://localhost:8080/",
          "height": 35
        },
        "id": "qqBnSeWhJ-nf",
        "outputId": "1d2ead5d-7ab9-4582-856c-df7256dd7df2"
      },
      "source": [
        "gpu = tf.test.gpu_device_name()\n",
        "gpu"
      ],
      "execution_count": null,
      "outputs": [
        {
          "output_type": "execute_result",
          "data": {
            "application/vnd.google.colaboratory.intrinsic+json": {
              "type": "string"
            },
            "text/plain": [
              "''"
            ]
          },
          "metadata": {
            "tags": []
          },
          "execution_count": 4
        }
      ]
    },
    {
      "cell_type": "code",
      "metadata": {
        "id": "-qijdcxGx6aN"
      },
      "source": [
        "removing_characters = list(string.punctuation+'0123456789'+'\\t'+'\\n')\n",
        "def data_preprocessing(df):\n",
        "  # Removing NaN Data\n",
        "  df = df.dropna()\n",
        "\n",
        "  # Seperating Male Indices and Female Indices\n",
        "  male_df = []\n",
        "  female_df = []\n",
        "  for i in range(df.shape[0]):\n",
        "    if df.iloc[i, 1] == 'male':\n",
        "      male_df.append(i)\n",
        "    elif df.iloc[i, 1] == 'female':\n",
        "      female_df.append(i)\n",
        "    df.iloc[i, 0] = str(df.iloc[i, 0]).lower()\n",
        "    # Removing Special Characters and Digits\n",
        "    temp = ''\n",
        "    for char in df.iloc[i, 0]:\n",
        "      if char not in removing_characters:\n",
        "        temp += char\n",
        "    df.iloc[i, 0] = temp\n",
        "    \n",
        "  # Creating New Dataset where Number of Male == Number of Female\n",
        "  sampled_indices = list(random.sample(male_df, len(female_df))) + female_df\n",
        "  sampled_df = df.iloc[sampled_indices, :]\n",
        "\n",
        "  for i in range(sampled_df.shape[0]):\n",
        "    if sampled_df.iloc[i, 1] == \"male\":\n",
        "      sampled_df.iloc[i, 1] = \"M\"\n",
        "    else:\n",
        "      sampled_df.iloc[i, 1] = \"F\"\n",
        "  \n",
        "  sampled_df = sampled_df.sample(frac=1)\n",
        "\n",
        "  return sampled_df\n",
        "\n",
        "# Extracting Maximum Length of All The Names\n",
        "def max_length_extractor_names(names):\n",
        "  max_length = 0\n",
        "  for name in names:\n",
        "    if max_length < len(name):\n",
        "      max_length = len(name)\n",
        "  return max_length\n",
        "\n",
        "# Builds an empty line with a 1 at the index of character\n",
        "def set_flag(i):\n",
        "    temp = np.zeros(len_vocabulary);\n",
        "    temp[i] = 1\n",
        "    return list(temp)\n",
        "\n",
        "# Truncate names and create the matrix\n",
        "def prepare_X(X):\n",
        "    new_list = []\n",
        "    trunc_train_name = [str(i)[0:maxlen] for i in X]\n",
        "\n",
        "    for i in trunc_train_name:\n",
        "        tmp = [set_flag(char_index[j]) for j in str(i)]\n",
        "        for k in range(0,maxlen - len(str(i))):\n",
        "            tmp.append(set_flag(char_index[\"END\"]))\n",
        "        new_list.append(tmp)\n",
        "\n",
        "    return new_list\n",
        "\n",
        "# Label Encoding of y\n",
        "def prepare_y(y):\n",
        "    new_list = []\n",
        "    for i in y:\n",
        "        if i == 'M':\n",
        "            new_list.append([1,0])\n",
        "        else:\n",
        "            new_list.append([0,1])\n",
        "    return new_list"
      ],
      "execution_count": null,
      "outputs": []
    },
    {
      "cell_type": "code",
      "metadata": {
        "colab": {
          "base_uri": "https://localhost:8080/",
          "height": 204
        },
        "id": "Nsh4SfQduIMS",
        "outputId": "e0a98ae1-1ba7-493c-8781-7e6ecccba5a8"
      },
      "source": [
        "# Load our data\n",
        "df = pd.read_csv(\"/content/drive/MyDrive/Colab Notebooks/Datasets/Train_Dataset.csv\")\n",
        "df.head()"
      ],
      "execution_count": null,
      "outputs": [
        {
          "output_type": "execute_result",
          "data": {
            "text/html": [
              "<div>\n",
              "<style scoped>\n",
              "    .dataframe tbody tr th:only-of-type {\n",
              "        vertical-align: middle;\n",
              "    }\n",
              "\n",
              "    .dataframe tbody tr th {\n",
              "        vertical-align: top;\n",
              "    }\n",
              "\n",
              "    .dataframe thead th {\n",
              "        text-align: right;\n",
              "    }\n",
              "</style>\n",
              "<table border=\"1\" class=\"dataframe\">\n",
              "  <thead>\n",
              "    <tr style=\"text-align: right;\">\n",
              "      <th></th>\n",
              "      <th>CUSTOMER_NAME</th>\n",
              "      <th>GENDER</th>\n",
              "    </tr>\n",
              "  </thead>\n",
              "  <tbody>\n",
              "    <tr>\n",
              "      <th>0</th>\n",
              "      <td>Sadia Meh Jabin</td>\n",
              "      <td>female</td>\n",
              "    </tr>\n",
              "    <tr>\n",
              "      <th>1</th>\n",
              "      <td>MD. ZAKIR HOSSAIN BELAL</td>\n",
              "      <td>male</td>\n",
              "    </tr>\n",
              "    <tr>\n",
              "      <th>2</th>\n",
              "      <td>Md.Saddam</td>\n",
              "      <td>male</td>\n",
              "    </tr>\n",
              "    <tr>\n",
              "      <th>3</th>\n",
              "      <td>JAYADA BIBI</td>\n",
              "      <td>female</td>\n",
              "    </tr>\n",
              "    <tr>\n",
              "      <th>4</th>\n",
              "      <td>Mst Surton Nesa</td>\n",
              "      <td>female</td>\n",
              "    </tr>\n",
              "  </tbody>\n",
              "</table>\n",
              "</div>"
            ],
            "text/plain": [
              "             CUSTOMER_NAME  GENDER\n",
              "0          Sadia Meh Jabin  female\n",
              "1  MD. ZAKIR HOSSAIN BELAL    male\n",
              "2                Md.Saddam    male\n",
              "3              JAYADA BIBI  female\n",
              "4          Mst Surton Nesa  female"
            ]
          },
          "metadata": {
            "tags": []
          },
          "execution_count": 6
        }
      ]
    },
    {
      "cell_type": "code",
      "metadata": {
        "colab": {
          "base_uri": "https://localhost:8080/",
          "height": 204
        },
        "id": "mBtJiObox5Ti",
        "outputId": "cb98c7cc-7fa8-470d-e497-ba0eef620651"
      },
      "source": [
        "df = data_preprocessing(df)\n",
        "df.head()"
      ],
      "execution_count": null,
      "outputs": [
        {
          "output_type": "execute_result",
          "data": {
            "text/html": [
              "<div>\n",
              "<style scoped>\n",
              "    .dataframe tbody tr th:only-of-type {\n",
              "        vertical-align: middle;\n",
              "    }\n",
              "\n",
              "    .dataframe tbody tr th {\n",
              "        vertical-align: top;\n",
              "    }\n",
              "\n",
              "    .dataframe thead th {\n",
              "        text-align: right;\n",
              "    }\n",
              "</style>\n",
              "<table border=\"1\" class=\"dataframe\">\n",
              "  <thead>\n",
              "    <tr style=\"text-align: right;\">\n",
              "      <th></th>\n",
              "      <th>CUSTOMER_NAME</th>\n",
              "      <th>GENDER</th>\n",
              "    </tr>\n",
              "  </thead>\n",
              "  <tbody>\n",
              "    <tr>\n",
              "      <th>42765</th>\n",
              "      <td>md rakubul islam</td>\n",
              "      <td>M</td>\n",
              "    </tr>\n",
              "    <tr>\n",
              "      <th>38299</th>\n",
              "      <td>culsum bebe</td>\n",
              "      <td>F</td>\n",
              "    </tr>\n",
              "    <tr>\n",
              "      <th>29718</th>\n",
              "      <td>rowshona</td>\n",
              "      <td>F</td>\n",
              "    </tr>\n",
              "    <tr>\n",
              "      <th>35490</th>\n",
              "      <td>md soaeb</td>\n",
              "      <td>M</td>\n",
              "    </tr>\n",
              "    <tr>\n",
              "      <th>49664</th>\n",
              "      <td>inamul</td>\n",
              "      <td>M</td>\n",
              "    </tr>\n",
              "  </tbody>\n",
              "</table>\n",
              "</div>"
            ],
            "text/plain": [
              "          CUSTOMER_NAME GENDER\n",
              "42765  md rakubul islam      M\n",
              "38299       culsum bebe      F\n",
              "29718          rowshona      F\n",
              "35490          md soaeb      M\n",
              "49664            inamul      M"
            ]
          },
          "metadata": {
            "tags": []
          },
          "execution_count": 7
        }
      ]
    },
    {
      "cell_type": "code",
      "metadata": {
        "colab": {
          "base_uri": "https://localhost:8080/"
        },
        "id": "rlt9YuzEp9cn",
        "outputId": "5f8b9720-07ae-4f52-dc69-f76853844ebc"
      },
      "source": [
        "df.shape"
      ],
      "execution_count": null,
      "outputs": [
        {
          "output_type": "execute_result",
          "data": {
            "text/plain": [
              "(50000, 2)"
            ]
          },
          "metadata": {
            "tags": []
          },
          "execution_count": 8
        }
      ]
    },
    {
      "cell_type": "code",
      "metadata": {
        "colab": {
          "base_uri": "https://localhost:8080/",
          "height": 499
        },
        "id": "-M4Xk1LPxVMX",
        "outputId": "d8dba02c-cddc-40a1-8943-488ae36acb75"
      },
      "source": [
        "customer_names = df['CUSTOMER_NAME'].apply(lambda x: x.lower())\n",
        "gender = df['GENDER']\n",
        "plt.figure(figsize=(12,8))\n",
        "plt.hist([len(name) for name in customer_names], bins=72)\n",
        "plt.title(\"Length of Names\")\n",
        "plt.show()"
      ],
      "execution_count": null,
      "outputs": [
        {
          "output_type": "display_data",
          "data": {
            "image/png": "[encoded data removed]",
            "text/plain": [
              "<Figure size 864x576 with 1 Axes>"
            ]
          },
          "metadata": {
            "tags": [],
            "needs_background": "light"
          }
        }
      ]
    },
    {
      "cell_type": "code",
      "metadata": {
        "colab": {
          "base_uri": "https://localhost:8080/"
        },
        "id": "m5Y3N5K5zqdi",
        "outputId": "ed7ceaac-6717-4185-f992-d12bba678ee1"
      },
      "source": [
        "print(\"Male : \" + str(sum(gender=='M')))\n",
        "print(\"Female : \" + str(sum(gender=='F')))"
      ],
      "execution_count": null,
      "outputs": [
        {
          "output_type": "stream",
          "text": [
            "Male : 25000\n",
            "Female : 25000\n"
          ],
          "name": "stdout"
        }
      ]
    },
    {
      "cell_type": "code",
      "metadata": {
        "colab": {
          "base_uri": "https://localhost:8080/"
        },
        "id": "aN4egE4G0JoW",
        "outputId": "93221d9c-d5c8-48a7-ac86-5260ce53b690"
      },
      "source": [
        "vocabulary = list(set(' '.join([str(i) for i in customer_names])))\n",
        "vocabulary.append('END')\n",
        "len_vocabulary = len(vocabulary)\n",
        "print(len_vocabulary)\n",
        "vocabulary.sort()\n",
        "print(vocabulary)"
      ],
      "execution_count": null,
      "outputs": [
        {
          "output_type": "stream",
          "text": [
            "28\n",
            "[' ', 'END', 'a', 'b', 'c', 'd', 'e', 'f', 'g', 'h', 'i', 'j', 'k', 'l', 'm', 'n', 'o', 'p', 'q', 'r', 's', 't', 'u', 'v', 'w', 'x', 'y', 'z']\n"
          ],
          "name": "stdout"
        }
      ]
    },
    {
      "cell_type": "code",
      "metadata": {
        "colab": {
          "base_uri": "https://localhost:8080/"
        },
        "id": "lbj9jXYM2OFS",
        "outputId": "c0b06a14-6af7-43b1-848a-52ab55a014e8"
      },
      "source": [
        "char_index = dict((c, i) for i, c in enumerate(vocabulary))\n",
        "char_index"
      ],
      "execution_count": null,
      "outputs": [
        {
          "output_type": "execute_result",
          "data": {
            "text/plain": [
              "{' ': 0,\n",
              " 'END': 1,\n",
              " 'a': 2,\n",
              " 'b': 3,\n",
              " 'c': 4,\n",
              " 'd': 5,\n",
              " 'e': 6,\n",
              " 'f': 7,\n",
              " 'g': 8,\n",
              " 'h': 9,\n",
              " 'i': 10,\n",
              " 'j': 11,\n",
              " 'k': 12,\n",
              " 'l': 13,\n",
              " 'm': 14,\n",
              " 'n': 15,\n",
              " 'o': 16,\n",
              " 'p': 17,\n",
              " 'q': 18,\n",
              " 'r': 19,\n",
              " 's': 20,\n",
              " 't': 21,\n",
              " 'u': 22,\n",
              " 'v': 23,\n",
              " 'w': 24,\n",
              " 'x': 25,\n",
              " 'y': 26,\n",
              " 'z': 27}"
            ]
          },
          "metadata": {
            "tags": []
          },
          "execution_count": 12
        }
      ]
    },
    {
      "cell_type": "code",
      "metadata": {
        "colab": {
          "base_uri": "https://localhost:8080/"
        },
        "id": "EKjitvxQ2u5m",
        "outputId": "ebc61054-fd82-4045-d3fd-5833f06a5614"
      },
      "source": [
        "maxlen = max_length_extractor_names(customer_names)\n",
        "labels = len(list(set(gender)))\n",
        "print(f\"Maximum Name Length: {maxlen} \\t Labels: {labels}\")"
      ],
      "execution_count": null,
      "outputs": [
        {
          "output_type": "stream",
          "text": [
            "Maximum Name Length: 39 \t Labels: 2\n"
          ],
          "name": "stdout"
        }
      ]
    },
    {
      "cell_type": "code",
      "metadata": {
        "id": "PDF88opt2Z5u",
        "colab": {
          "base_uri": "https://localhost:8080/"
        },
        "outputId": "ced84d4b-48a5-414f-d5a0-55350818472f"
      },
      "source": [
        "X = []\n",
        "y = []\n",
        "print(customer_names.values[0])\n",
        "X = prepare_X(customer_names.values)\n",
        "y = prepare_y(gender)"
      ],
      "execution_count": null,
      "outputs": [
        {
          "output_type": "stream",
          "text": [
            "sajada yesmin\n"
          ],
          "name": "stdout"
        }
      ]
    },
    {
      "cell_type": "code",
      "metadata": {
        "colab": {
          "base_uri": "https://localhost:8080/"
        },
        "id": "E_rN56Ff9-m0",
        "outputId": "46b95dc8-f93d-454a-a084-56a21049deab"
      },
      "source": [
        "for i in range(len(X[0])):\n",
        "  print(X[0][i])"
      ],
      "execution_count": null,
      "outputs": [
        {
          "output_type": "stream",
          "text": [
            "[0.0, 0.0, 0.0, 0.0, 0.0, 0.0, 0.0, 0.0, 0.0, 0.0, 0.0, 0.0, 0.0, 0.0, 0.0, 0.0, 0.0, 0.0, 0.0, 0.0, 1.0, 0.0, 0.0, 0.0, 0.0, 0.0, 0.0, 0.0]\n",
            "[0.0, 0.0, 1.0, 0.0, 0.0, 0.0, 0.0, 0.0, 0.0, 0.0, 0.0, 0.0, 0.0, 0.0, 0.0, 0.0, 0.0, 0.0, 0.0, 0.0, 0.0, 0.0, 0.0, 0.0, 0.0, 0.0, 0.0, 0.0]\n",
            "[0.0, 0.0, 0.0, 0.0, 0.0, 0.0, 0.0, 0.0, 0.0, 0.0, 0.0, 1.0, 0.0, 0.0, 0.0, 0.0, 0.0, 0.0, 0.0, 0.0, 0.0, 0.0, 0.0, 0.0, 0.0, 0.0, 0.0, 0.0]\n",
            "[0.0, 0.0, 1.0, 0.0, 0.0, 0.0, 0.0, 0.0, 0.0, 0.0, 0.0, 0.0, 0.0, 0.0, 0.0, 0.0, 0.0, 0.0, 0.0, 0.0, 0.0, 0.0, 0.0, 0.0, 0.0, 0.0, 0.0, 0.0]\n",
            "[0.0, 0.0, 0.0, 0.0, 0.0, 1.0, 0.0, 0.0, 0.0, 0.0, 0.0, 0.0, 0.0, 0.0, 0.0, 0.0, 0.0, 0.0, 0.0, 0.0, 0.0, 0.0, 0.0, 0.0, 0.0, 0.0, 0.0, 0.0]\n",
            "[0.0, 0.0, 1.0, 0.0, 0.0, 0.0, 0.0, 0.0, 0.0, 0.0, 0.0, 0.0, 0.0, 0.0, 0.0, 0.0, 0.0, 0.0, 0.0, 0.0, 0.0, 0.0, 0.0, 0.0, 0.0, 0.0, 0.0, 0.0]\n",
            "[1.0, 0.0, 0.0, 0.0, 0.0, 0.0, 0.0, 0.0, 0.0, 0.0, 0.0, 0.0, 0.0, 0.0, 0.0, 0.0, 0.0, 0.0, 0.0, 0.0, 0.0, 0.0, 0.0, 0.0, 0.0, 0.0, 0.0, 0.0]\n",
            "[0.0, 0.0, 0.0, 0.0, 0.0, 0.0, 0.0, 0.0, 0.0, 0.0, 0.0, 0.0, 0.0, 0.0, 0.0, 0.0, 0.0, 0.0, 0.0, 0.0, 0.0, 0.0, 0.0, 0.0, 0.0, 0.0, 1.0, 0.0]\n",
            "[0.0, 0.0, 0.0, 0.0, 0.0, 0.0, 1.0, 0.0, 0.0, 0.0, 0.0, 0.0, 0.0, 0.0, 0.0, 0.0, 0.0, 0.0, 0.0, 0.0, 0.0, 0.0, 0.0, 0.0, 0.0, 0.0, 0.0, 0.0]\n",
            "[0.0, 0.0, 0.0, 0.0, 0.0, 0.0, 0.0, 0.0, 0.0, 0.0, 0.0, 0.0, 0.0, 0.0, 0.0, 0.0, 0.0, 0.0, 0.0, 0.0, 1.0, 0.0, 0.0, 0.0, 0.0, 0.0, 0.0, 0.0]\n",
            "[0.0, 0.0, 0.0, 0.0, 0.0, 0.0, 0.0, 0.0, 0.0, 0.0, 0.0, 0.0, 0.0, 0.0, 1.0, 0.0, 0.0, 0.0, 0.0, 0.0, 0.0, 0.0, 0.0, 0.0, 0.0, 0.0, 0.0, 0.0]\n",
            "[0.0, 0.0, 0.0, 0.0, 0.0, 0.0, 0.0, 0.0, 0.0, 0.0, 1.0, 0.0, 0.0, 0.0, 0.0, 0.0, 0.0, 0.0, 0.0, 0.0, 0.0, 0.0, 0.0, 0.0, 0.0, 0.0, 0.0, 0.0]\n",
            "[0.0, 0.0, 0.0, 0.0, 0.0, 0.0, 0.0, 0.0, 0.0, 0.0, 0.0, 0.0, 0.0, 0.0, 0.0, 1.0, 0.0, 0.0, 0.0, 0.0, 0.0, 0.0, 0.0, 0.0, 0.0, 0.0, 0.0, 0.0]\n",
            "[0.0, 1.0, 0.0, 0.0, 0.0, 0.0, 0.0, 0.0, 0.0, 0.0, 0.0, 0.0, 0.0, 0.0, 0.0, 0.0, 0.0, 0.0, 0.0, 0.0, 0.0, 0.0, 0.0, 0.0, 0.0, 0.0, 0.0, 0.0]\n",
            "[0.0, 1.0, 0.0, 0.0, 0.0, 0.0, 0.0, 0.0, 0.0, 0.0, 0.0, 0.0, 0.0, 0.0, 0.0, 0.0, 0.0, 0.0, 0.0, 0.0, 0.0, 0.0, 0.0, 0.0, 0.0, 0.0, 0.0, 0.0]\n",
            "[0.0, 1.0, 0.0, 0.0, 0.0, 0.0, 0.0, 0.0, 0.0, 0.0, 0.0, 0.0, 0.0, 0.0, 0.0, 0.0, 0.0, 0.0, 0.0, 0.0, 0.0, 0.0, 0.0, 0.0, 0.0, 0.0, 0.0, 0.0]\n",
            "[0.0, 1.0, 0.0, 0.0, 0.0, 0.0, 0.0, 0.0, 0.0, 0.0, 0.0, 0.0, 0.0, 0.0, 0.0, 0.0, 0.0, 0.0, 0.0, 0.0, 0.0, 0.0, 0.0, 0.0, 0.0, 0.0, 0.0, 0.0]\n",
            "[0.0, 1.0, 0.0, 0.0, 0.0, 0.0, 0.0, 0.0, 0.0, 0.0, 0.0, 0.0, 0.0, 0.0, 0.0, 0.0, 0.0, 0.0, 0.0, 0.0, 0.0, 0.0, 0.0, 0.0, 0.0, 0.0, 0.0, 0.0]\n",
            "[0.0, 1.0, 0.0, 0.0, 0.0, 0.0, 0.0, 0.0, 0.0, 0.0, 0.0, 0.0, 0.0, 0.0, 0.0, 0.0, 0.0, 0.0, 0.0, 0.0, 0.0, 0.0, 0.0, 0.0, 0.0, 0.0, 0.0, 0.0]\n",
            "[0.0, 1.0, 0.0, 0.0, 0.0, 0.0, 0.0, 0.0, 0.0, 0.0, 0.0, 0.0, 0.0, 0.0, 0.0, 0.0, 0.0, 0.0, 0.0, 0.0, 0.0, 0.0, 0.0, 0.0, 0.0, 0.0, 0.0, 0.0]\n",
            "[0.0, 1.0, 0.0, 0.0, 0.0, 0.0, 0.0, 0.0, 0.0, 0.0, 0.0, 0.0, 0.0, 0.0, 0.0, 0.0, 0.0, 0.0, 0.0, 0.0, 0.0, 0.0, 0.0, 0.0, 0.0, 0.0, 0.0, 0.0]\n",
            "[0.0, 1.0, 0.0, 0.0, 0.0, 0.0, 0.0, 0.0, 0.0, 0.0, 0.0, 0.0, 0.0, 0.0, 0.0, 0.0, 0.0, 0.0, 0.0, 0.0, 0.0, 0.0, 0.0, 0.0, 0.0, 0.0, 0.0, 0.0]\n",
            "[0.0, 1.0, 0.0, 0.0, 0.0, 0.0, 0.0, 0.0, 0.0, 0.0, 0.0, 0.0, 0.0, 0.0, 0.0, 0.0, 0.0, 0.0, 0.0, 0.0, 0.0, 0.0, 0.0, 0.0, 0.0, 0.0, 0.0, 0.0]\n",
            "[0.0, 1.0, 0.0, 0.0, 0.0, 0.0, 0.0, 0.0, 0.0, 0.0, 0.0, 0.0, 0.0, 0.0, 0.0, 0.0, 0.0, 0.0, 0.0, 0.0, 0.0, 0.0, 0.0, 0.0, 0.0, 0.0, 0.0, 0.0]\n",
            "[0.0, 1.0, 0.0, 0.0, 0.0, 0.0, 0.0, 0.0, 0.0, 0.0, 0.0, 0.0, 0.0, 0.0, 0.0, 0.0, 0.0, 0.0, 0.0, 0.0, 0.0, 0.0, 0.0, 0.0, 0.0, 0.0, 0.0, 0.0]\n",
            "[0.0, 1.0, 0.0, 0.0, 0.0, 0.0, 0.0, 0.0, 0.0, 0.0, 0.0, 0.0, 0.0, 0.0, 0.0, 0.0, 0.0, 0.0, 0.0, 0.0, 0.0, 0.0, 0.0, 0.0, 0.0, 0.0, 0.0, 0.0]\n",
            "[0.0, 1.0, 0.0, 0.0, 0.0, 0.0, 0.0, 0.0, 0.0, 0.0, 0.0, 0.0, 0.0, 0.0, 0.0, 0.0, 0.0, 0.0, 0.0, 0.0, 0.0, 0.0, 0.0, 0.0, 0.0, 0.0, 0.0, 0.0]\n",
            "[0.0, 1.0, 0.0, 0.0, 0.0, 0.0, 0.0, 0.0, 0.0, 0.0, 0.0, 0.0, 0.0, 0.0, 0.0, 0.0, 0.0, 0.0, 0.0, 0.0, 0.0, 0.0, 0.0, 0.0, 0.0, 0.0, 0.0, 0.0]\n",
            "[0.0, 1.0, 0.0, 0.0, 0.0, 0.0, 0.0, 0.0, 0.0, 0.0, 0.0, 0.0, 0.0, 0.0, 0.0, 0.0, 0.0, 0.0, 0.0, 0.0, 0.0, 0.0, 0.0, 0.0, 0.0, 0.0, 0.0, 0.0]\n",
            "[0.0, 1.0, 0.0, 0.0, 0.0, 0.0, 0.0, 0.0, 0.0, 0.0, 0.0, 0.0, 0.0, 0.0, 0.0, 0.0, 0.0, 0.0, 0.0, 0.0, 0.0, 0.0, 0.0, 0.0, 0.0, 0.0, 0.0, 0.0]\n",
            "[0.0, 1.0, 0.0, 0.0, 0.0, 0.0, 0.0, 0.0, 0.0, 0.0, 0.0, 0.0, 0.0, 0.0, 0.0, 0.0, 0.0, 0.0, 0.0, 0.0, 0.0, 0.0, 0.0, 0.0, 0.0, 0.0, 0.0, 0.0]\n",
            "[0.0, 1.0, 0.0, 0.0, 0.0, 0.0, 0.0, 0.0, 0.0, 0.0, 0.0, 0.0, 0.0, 0.0, 0.0, 0.0, 0.0, 0.0, 0.0, 0.0, 0.0, 0.0, 0.0, 0.0, 0.0, 0.0, 0.0, 0.0]\n",
            "[0.0, 1.0, 0.0, 0.0, 0.0, 0.0, 0.0, 0.0, 0.0, 0.0, 0.0, 0.0, 0.0, 0.0, 0.0, 0.0, 0.0, 0.0, 0.0, 0.0, 0.0, 0.0, 0.0, 0.0, 0.0, 0.0, 0.0, 0.0]\n",
            "[0.0, 1.0, 0.0, 0.0, 0.0, 0.0, 0.0, 0.0, 0.0, 0.0, 0.0, 0.0, 0.0, 0.0, 0.0, 0.0, 0.0, 0.0, 0.0, 0.0, 0.0, 0.0, 0.0, 0.0, 0.0, 0.0, 0.0, 0.0]\n",
            "[0.0, 1.0, 0.0, 0.0, 0.0, 0.0, 0.0, 0.0, 0.0, 0.0, 0.0, 0.0, 0.0, 0.0, 0.0, 0.0, 0.0, 0.0, 0.0, 0.0, 0.0, 0.0, 0.0, 0.0, 0.0, 0.0, 0.0, 0.0]\n"
          ],
          "name": "stdout"
        }
      ]
    },
    {
      "cell_type": "code",
      "metadata": {
        "id": "eQWlzokx2sIq"
      },
      "source": [
        "X_train, X_test, y_train, y_test = train_test_split(X, y, test_size=0.30)"
      ],
      "execution_count": null,
      "outputs": []
    },
    {
      "cell_type": "code",
      "metadata": {
        "id": "AwV0DgLu4MWr"
      },
      "source": [
        "model = Sequential()\n",
        "model.add(Bidirectional(LSTM(512, return_sequences=True), \n",
        "                        backward_layer=LSTM(512, return_sequences=True, go_backwards=True), \n",
        "                        input_shape=(maxlen,len_vocabulary)))\n",
        "model.add(Dropout(0.2))\n",
        "model.add(Bidirectional(LSTM(512)))\n",
        "model.add(Dropout(0.2))\n",
        "model.add(Dense(2, activity_regularizer=l2(0.002)))\n",
        "model.add(Activation('softmax'))\n",
        "model.compile(loss='categorical_crossentropy', optimizer='adam',metrics=['accuracy'])"
      ],
      "execution_count": null,
      "outputs": []
    },
    {
      "cell_type": "code",
      "metadata": {
        "colab": {
          "base_uri": "https://localhost:8080/",
          "height": 754
        },
        "id": "b_JaNifX4WyX",
        "outputId": "563cba8c-0e32-409a-c5f2-7ed92ada0c3b"
      },
      "source": [
        "plot_model(model, to_file='/content/drive/MyDrive/Colab Notebooks/Models/Model - 50K/Model.png', show_shapes=True, expand_nested=True)"
      ],
      "execution_count": null,
      "outputs": [
        {
          "output_type": "execute_result",
          "data": {
            "image/png": "[encoded data removed]",
            "text/plain": [
              "<IPython.core.display.Image object>"
            ]
          },
          "metadata": {
            "tags": []
          },
          "execution_count": 17
        }
      ]
    },
    {
      "cell_type": "code",
      "metadata": {
        "id": "DVkhTG574eXq"
      },
      "source": [
        "callback = EarlyStopping(monitor='val_loss', patience=5)\n",
        "mc = ModelCheckpoint('/content/drive/MyDrive/Colab Notebooks/Models/Model - 50K/Model.h5', monitor='val_loss', mode='min', verbose=1)\n",
        "reduce_lr_acc = ReduceLROnPlateau(monitor='val_accuracy', factor=0.1, patience=2, verbose=1, min_delta=1e-4, mode='max')"
      ],
      "execution_count": null,
      "outputs": []
    },
    {
      "cell_type": "code",
      "metadata": {
        "colab": {
          "base_uri": "https://localhost:8080/"
        },
        "id": "cEVAzOA044qG",
        "outputId": "bd78b522-8a6b-4145-b880-85350b42ceb8"
      },
      "source": [
        "batch_size = 256\n",
        "history = model.fit(X_train, y_train, batch_size=batch_size, epochs=35, \n",
        "                    verbose=1, validation_data =(X_test, y_test), \n",
        "                    callbacks=[callback, mc, reduce_lr_acc])"
      ],
      "execution_count": null,
      "outputs": [
        {
          "output_type": "stream",
          "text": [
            "Epoch 1/35\n",
            "137/137 [==============================] - 96s 447ms/step - loss: 0.4245 - accuracy: 0.7957 - val_loss: 0.2758 - val_accuracy: 0.8833\n",
            "\n",
            "Epoch 00001: saving model to /content/drive/MyDrive/Colab Notebooks/Models/Model - 50K/Model.h5\n",
            "Epoch 2/35\n",
            "137/137 [==============================] - 22s 163ms/step - loss: 0.2500 - accuracy: 0.8931 - val_loss: 0.1995 - val_accuracy: 0.9227\n",
            "\n",
            "Epoch 00002: saving model to /content/drive/MyDrive/Colab Notebooks/Models/Model - 50K/Model.h5\n",
            "Epoch 3/35\n",
            "137/137 [==============================] - 23s 167ms/step - loss: 0.1909 - accuracy: 0.9287 - val_loss: 0.1737 - val_accuracy: 0.9373\n",
            "\n",
            "Epoch 00003: saving model to /content/drive/MyDrive/Colab Notebooks/Models/Model - 50K/Model.h5\n",
            "Epoch 4/35\n",
            "137/137 [==============================] - 23s 169ms/step - loss: 0.1549 - accuracy: 0.9474 - val_loss: 0.1406 - val_accuracy: 0.9517\n",
            "\n",
            "Epoch 00004: saving model to /content/drive/MyDrive/Colab Notebooks/Models/Model - 50K/Model.h5\n",
            "Epoch 5/35\n",
            "137/137 [==============================] - 24s 173ms/step - loss: 0.1379 - accuracy: 0.9545 - val_loss: 0.1330 - val_accuracy: 0.9568\n",
            "\n",
            "Epoch 00005: saving model to /content/drive/MyDrive/Colab Notebooks/Models/Model - 50K/Model.h5\n",
            "Epoch 6/35\n",
            "137/137 [==============================] - 24s 177ms/step - loss: 0.1175 - accuracy: 0.9640 - val_loss: 0.1403 - val_accuracy: 0.9519\n",
            "\n",
            "Epoch 00006: saving model to /content/drive/MyDrive/Colab Notebooks/Models/Model - 50K/Model.h5\n",
            "Epoch 7/35\n",
            "137/137 [==============================] - 25s 179ms/step - loss: 0.1154 - accuracy: 0.9650 - val_loss: 0.1245 - val_accuracy: 0.9609\n",
            "\n",
            "Epoch 00007: saving model to /content/drive/MyDrive/Colab Notebooks/Models/Model - 50K/Model.h5\n",
            "Epoch 8/35\n",
            "137/137 [==============================] - 25s 181ms/step - loss: 0.1034 - accuracy: 0.9704 - val_loss: 0.1167 - val_accuracy: 0.9645\n",
            "\n",
            "Epoch 00008: saving model to /content/drive/MyDrive/Colab Notebooks/Models/Model - 50K/Model.h5\n",
            "Epoch 9/35\n",
            "137/137 [==============================] - 25s 184ms/step - loss: 0.0975 - accuracy: 0.9729 - val_loss: 0.1139 - val_accuracy: 0.9653\n",
            "\n",
            "Epoch 00009: saving model to /content/drive/MyDrive/Colab Notebooks/Models/Model - 50K/Model.h5\n",
            "Epoch 10/35\n",
            "137/137 [==============================] - 25s 185ms/step - loss: 0.0908 - accuracy: 0.9757 - val_loss: 0.1058 - val_accuracy: 0.9689\n",
            "\n",
            "Epoch 00010: saving model to /content/drive/MyDrive/Colab Notebooks/Models/Model - 50K/Model.h5\n",
            "Epoch 11/35\n",
            "137/137 [==============================] - 26s 187ms/step - loss: 0.0844 - accuracy: 0.9784 - val_loss: 0.1126 - val_accuracy: 0.9657\n",
            "\n",
            "Epoch 00011: saving model to /content/drive/MyDrive/Colab Notebooks/Models/Model - 50K/Model.h5\n",
            "Epoch 12/35\n",
            "137/137 [==============================] - 26s 187ms/step - loss: 0.0819 - accuracy: 0.9792 - val_loss: 0.1130 - val_accuracy: 0.9683\n",
            "\n",
            "Epoch 00012: saving model to /content/drive/MyDrive/Colab Notebooks/Models/Model - 50K/Model.h5\n",
            "\n",
            "Epoch 00012: ReduceLROnPlateau reducing learning rate to 0.00010000000474974513.\n",
            "Epoch 13/35\n",
            "137/137 [==============================] - 26s 188ms/step - loss: 0.0733 - accuracy: 0.9832 - val_loss: 0.1030 - val_accuracy: 0.9715\n",
            "\n",
            "Epoch 00013: saving model to /content/drive/MyDrive/Colab Notebooks/Models/Model - 50K/Model.h5\n",
            "Epoch 14/35\n",
            "137/137 [==============================] - 26s 188ms/step - loss: 0.0649 - accuracy: 0.9875 - val_loss: 0.1042 - val_accuracy: 0.9716\n",
            "\n",
            "Epoch 00014: saving model to /content/drive/MyDrive/Colab Notebooks/Models/Model - 50K/Model.h5\n",
            "Epoch 15/35\n",
            "137/137 [==============================] - 26s 187ms/step - loss: 0.0632 - accuracy: 0.9875 - val_loss: 0.1056 - val_accuracy: 0.9715\n",
            "\n",
            "Epoch 00015: saving model to /content/drive/MyDrive/Colab Notebooks/Models/Model - 50K/Model.h5\n",
            "\n",
            "Epoch 00015: ReduceLROnPlateau reducing learning rate to 1.0000000474974514e-05.\n",
            "Epoch 16/35\n",
            "137/137 [==============================] - 26s 188ms/step - loss: 0.0586 - accuracy: 0.9896 - val_loss: 0.1057 - val_accuracy: 0.9713\n",
            "\n",
            "Epoch 00016: saving model to /content/drive/MyDrive/Colab Notebooks/Models/Model - 50K/Model.h5\n",
            "Epoch 17/35\n",
            "137/137 [==============================] - 26s 187ms/step - loss: 0.0572 - accuracy: 0.9907 - val_loss: 0.1058 - val_accuracy: 0.9717\n",
            "\n",
            "Epoch 00017: saving model to /content/drive/MyDrive/Colab Notebooks/Models/Model - 50K/Model.h5\n",
            "Epoch 18/35\n",
            "137/137 [==============================] - 26s 187ms/step - loss: 0.0569 - accuracy: 0.9910 - val_loss: 0.1061 - val_accuracy: 0.9713\n",
            "\n",
            "Epoch 00018: saving model to /content/drive/MyDrive/Colab Notebooks/Models/Model - 50K/Model.h5\n"
          ],
          "name": "stdout"
        }
      ]
    },
    {
      "cell_type": "code",
      "metadata": {
        "colab": {
          "base_uri": "https://localhost:8080/",
          "height": 513
        },
        "id": "k9JNZ7sD5BkA",
        "outputId": "db2f5eb6-886e-4aaa-d05f-6ef4599ad458"
      },
      "source": [
        "plt.figure(figsize=(12,8))\n",
        "plt.plot(history.history['accuracy'])\n",
        "plt.plot(history.history['val_accuracy'])\n",
        "plt.title('Model accuracy')\n",
        "plt.ylabel('Accuracy')\n",
        "plt.xlabel('Epoch')\n",
        "plt.legend(['Train', 'Test'], loc='upper left')\n",
        "plt.show()"
      ],
      "execution_count": null,
      "outputs": [
        {
          "output_type": "display_data",
          "data": {
            "image/png": "[encoded data removed]",
            "text/plain": [
              "<Figure size 864x576 with 1 Axes>"
            ]
          },
          "metadata": {
            "tags": [],
            "needs_background": "light"
          }
        }
      ]
    },
    {
      "cell_type": "code",
      "metadata": {
        "colab": {
          "base_uri": "https://localhost:8080/",
          "height": 513
        },
        "id": "X713snswTTbr",
        "outputId": "2703781d-b9c6-426a-9d58-f17318ca1e46"
      },
      "source": [
        "plt.figure(figsize=(12,8))\n",
        "plt.plot(history.history['loss'])\n",
        "plt.plot(history.history['val_loss'])\n",
        "plt.title('Model Loss')\n",
        "plt.ylabel('Loss')\n",
        "plt.xlabel('Epoch')\n",
        "plt.legend(['Train', 'Test'], loc='upper left')\n",
        "plt.show()"
      ],
      "execution_count": null,
      "outputs": [
        {
          "output_type": "display_data",
          "data": {
            "image/png": "[encoded data removed]",
            "text/plain": [
              "<Figure size 864x576 with 1 Axes>"
            ]
          },
          "metadata": {
            "tags": [],
            "needs_background": "light"
          }
        }
      ]
    },
    {
      "cell_type": "code",
      "metadata": {
        "id": "c8i4DO3y5LFy"
      },
      "source": [
        "test_names = [\"Rayhan Rashid\",\n",
        "              \"Rani\",\n",
        "              \"Afsana Yeasmin Mili\",\n",
        "              \"Rayhana\",\n",
        "              \"Md. Zahid Hossain Khan\", \n",
        "              \"Shahriar Haque\", \n",
        "              \"Ashique Jubayer\",\n",
        "              \"Nowsin\", \n",
        "              \"Shajedul Islam\",\n",
        "              \"Saif Ahmed Anik\", \n",
        "              \"Toriqul Islam\",\n",
        "              \"Afrina Yeasmin Mithila\",\n",
        "              \"MD. Khalid Hossain Khan\",\n",
        "              \"Md. Faruque Hossain Khan\",\n",
        "              \"Md. Abdul Aziz Khan\",\n",
        "              \"Samsun Nahar\",\n",
        "              \"Farhana Sharmin\",\n",
        "              \"Mahbub Azam\",\n",
        "              \"Roni Hauladar\", \n",
        "              \"Chowdhuri Mofizur Rahman\",\n",
        "              \"Sajid Ahmed\",\n",
        "              \"Swakkhar Swatabda\",\n",
        "              \"Sabila Nowshin\",\n",
        "              \"Rifat Jabin\",\n",
        "              \"Tithi\",\n",
        "              \"Tanvir Rashid\",\n",
        "              \"Kamrul Islam Tushar\",\n",
        "              \"Sahanaj\",\n",
        "              \"Suma Akhter\",\n",
        "              \"Nishat Fariha\",\n",
        "              \"Faiza Alam\",\n",
        "              \"Ripon Khan\",\n",
        "              \"Ridita Afrin\"]"
      ],
      "execution_count": null,
      "outputs": []
    },
    {
      "cell_type": "code",
      "metadata": {
        "colab": {
          "base_uri": "https://localhost:8080/"
        },
        "id": "CzAsy1vgREiD",
        "outputId": "7ac57ef8-aeae-4804-d195-9645309f1058"
      },
      "source": [
        "for i in range(len(test_names)):\n",
        "  temp = ''\n",
        "  for char in test_names[i]:\n",
        "    if char not in removing_characters:\n",
        "      temp += char\n",
        "  test_names[i] = temp\n",
        "test_names"
      ],
      "execution_count": null,
      "outputs": [
        {
          "output_type": "execute_result",
          "data": {
            "text/plain": [
              "['Rayhan Rashid',\n",
              " 'Rani',\n",
              " 'Afsana Yeasmin Mili',\n",
              " 'Rayhana',\n",
              " 'Md Zahid Hossain Khan',\n",
              " 'Shahriar Haque',\n",
              " 'Ashique Jubayer',\n",
              " 'Nowsin',\n",
              " 'Shajedul Islam',\n",
              " 'Saif Ahmed Anik',\n",
              " 'Toriqul Islam',\n",
              " 'Afrina Yeasmin Mithila',\n",
              " 'MD Khalid Hossain Khan',\n",
              " 'Md Faruque Hossain Khan',\n",
              " 'Md Abdul Aziz Khan',\n",
              " 'Samsun Nahar',\n",
              " 'Farhana Sharmin',\n",
              " 'Mahbub Azam',\n",
              " 'Roni Hauladar',\n",
              " 'Chowdhuri Mofizur Rahman',\n",
              " 'Sajid Ahmed',\n",
              " 'Swakkhar Swatabda',\n",
              " 'Sabila Nowshin',\n",
              " 'Rifat Jabin',\n",
              " 'Tithi',\n",
              " 'Tanvir Rashid',\n",
              " 'Kamrul Islam Tushar',\n",
              " 'Sahanaj',\n",
              " 'Suma Akhter',\n",
              " 'Nishat Fariha',\n",
              " 'Faiza Alam',\n",
              " 'Ripon Khan',\n",
              " 'Ridita Afrin']"
            ]
          },
          "metadata": {
            "tags": []
          },
          "execution_count": 23
        }
      ]
    },
    {
      "cell_type": "code",
      "metadata": {
        "colab": {
          "base_uri": "https://localhost:8080/"
        },
        "id": "L9Ha2dfR65S7",
        "outputId": "06d9d397-aaba-4b7c-c360-d8e59ee2766c"
      },
      "source": [
        "X_pred = prepare_X([name.lower() for name in test_names])\n",
        "predictions = model.predict(X_pred)\n",
        "predictions"
      ],
      "execution_count": null,
      "outputs": [
        {
          "output_type": "execute_result",
          "data": {
            "text/plain": [
              "array([[0.97218704, 0.02781301],\n",
              "       [0.04730341, 0.9526966 ],\n",
              "       [0.00980737, 0.99019265],\n",
              "       [0.00547242, 0.9945275 ],\n",
              "       [0.99007154, 0.00992849],\n",
              "       [0.90049285, 0.09950712],\n",
              "       [0.99623054, 0.0037694 ],\n",
              "       [0.47767252, 0.5223275 ],\n",
              "       [0.9923499 , 0.00765001],\n",
              "       [0.9886458 , 0.01135424],\n",
              "       [0.98497564, 0.01502438],\n",
              "       [0.01037482, 0.98962516],\n",
              "       [0.9905448 , 0.00945522],\n",
              "       [0.99082094, 0.00917908],\n",
              "       [0.9888236 , 0.0111764 ],\n",
              "       [0.00854008, 0.99145997],\n",
              "       [0.0086249 , 0.99137515],\n",
              "       [0.9898679 , 0.01013203],\n",
              "       [0.04230503, 0.95769495],\n",
              "       [0.94822294, 0.05177705],\n",
              "       [0.9924338 , 0.00756626],\n",
              "       [0.96238315, 0.03761689],\n",
              "       [0.00577508, 0.99422497],\n",
              "       [0.01787894, 0.98212105],\n",
              "       [0.05003021, 0.9499697 ],\n",
              "       [0.96596754, 0.03403246],\n",
              "       [0.90142375, 0.09857624],\n",
              "       [0.08224241, 0.9177576 ],\n",
              "       [0.01020856, 0.9897914 ],\n",
              "       [0.0051697 , 0.9948303 ],\n",
              "       [0.04906188, 0.9509381 ],\n",
              "       [0.9927147 , 0.00728535],\n",
              "       [0.00721985, 0.99278015]], dtype=float32)"
            ]
          },
          "metadata": {
            "tags": []
          },
          "execution_count": 24
        }
      ]
    },
    {
      "cell_type": "code",
      "metadata": {
        "id": "rfpNBe3s6_rD"
      },
      "source": [
        "test_prediction = ['M' if np.argmax(prediction) == 0 else 'F' for prediction in predictions]"
      ],
      "execution_count": null,
      "outputs": []
    },
    {
      "cell_type": "code",
      "metadata": {
        "colab": {
          "base_uri": "https://localhost:8080/"
        },
        "id": "p05HgYdan-5y",
        "outputId": "97f6795d-02fd-485d-855b-a01ede0168ec"
      },
      "source": [
        "test_table = []\n",
        "for i in range(len(test_names)):\n",
        "  test_table.append([test_names[i], test_prediction[i]])\n",
        "print(\"\\n\\n## Test Names Result ##\\n\")\n",
        "print(tabulate(test_table, headers= ['Name', 'Gender']))"
      ],
      "execution_count": null,
      "outputs": [
        {
          "output_type": "stream",
          "text": [
            "\n",
            "\n",
            "## Test Names Result ##\n",
            "\n",
            "Name                      Gender\n",
            "------------------------  --------\n",
            "Rayhan Rashid             M\n",
            "Rani                      F\n",
            "Afsana Yeasmin Mili       F\n",
            "Rayhana                   F\n",
            "Md Zahid Hossain Khan     M\n",
            "Shahriar Haque            M\n",
            "Ashique Jubayer           M\n",
            "Nowsin                    F\n",
            "Shajedul Islam            M\n",
            "Saif Ahmed Anik           M\n",
            "Toriqul Islam             M\n",
            "Afrina Yeasmin Mithila    F\n",
            "MD Khalid Hossain Khan    M\n",
            "Md Faruque Hossain Khan   M\n",
            "Md Abdul Aziz Khan        M\n",
            "Samsun Nahar              F\n",
            "Farhana Sharmin           F\n",
            "Mahbub Azam               M\n",
            "Roni Hauladar             F\n",
            "Chowdhuri Mofizur Rahman  M\n",
            "Sajid Ahmed               M\n",
            "Swakkhar Swatabda         M\n",
            "Sabila Nowshin            F\n",
            "Rifat Jabin               F\n",
            "Tithi                     F\n",
            "Tanvir Rashid             M\n",
            "Kamrul Islam Tushar       M\n",
            "Sahanaj                   F\n",
            "Suma Akhter               F\n",
            "Nishat Fariha             F\n",
            "Faiza Alam                F\n",
            "Ripon Khan                M\n",
            "Ridita Afrin              F\n"
          ],
          "name": "stdout"
        }
      ]
    },
    {
      "cell_type": "code",
      "metadata": {
        "id": "9tdCmuB078ca"
      },
      "source": [
        "##### 50K Test Data #####"
      ],
      "execution_count": null,
      "outputs": []
    },
    {
      "cell_type": "code",
      "metadata": {
        "id": "iWIOQHohrKz1"
      },
      "source": [
        "# Loading Saved Model\n",
        "model = keras.models.load_model(\"/content/drive/MyDrive/Colab Notebooks/Models/Model - 50K/Model - Run 1.h5\")"
      ],
      "execution_count": null,
      "outputs": []
    },
    {
      "cell_type": "code",
      "metadata": {
        "colab": {
          "base_uri": "https://localhost:8080/",
          "height": 204
        },
        "id": "o9F7OcefFTRc",
        "outputId": "33322a5a-355f-4639-bee3-6ca96fbc57d6"
      },
      "source": [
        "# Load test data\n",
        "test_df = pd.read_csv(\"/content/drive/MyDrive/Colab Notebooks/Datasets/Dataset_0.6_Million.csv\")\n",
        "test_df.head()"
      ],
      "execution_count": null,
      "outputs": [
        {
          "output_type": "execute_result",
          "data": {
            "text/html": [
              "<div>\n",
              "<style scoped>\n",
              "    .dataframe tbody tr th:only-of-type {\n",
              "        vertical-align: middle;\n",
              "    }\n",
              "\n",
              "    .dataframe tbody tr th {\n",
              "        vertical-align: top;\n",
              "    }\n",
              "\n",
              "    .dataframe thead th {\n",
              "        text-align: right;\n",
              "    }\n",
              "</style>\n",
              "<table border=\"1\" class=\"dataframe\">\n",
              "  <thead>\n",
              "    <tr style=\"text-align: right;\">\n",
              "      <th></th>\n",
              "      <th>CUSTOMER_NAME</th>\n",
              "      <th>GENDER</th>\n",
              "    </tr>\n",
              "  </thead>\n",
              "  <tbody>\n",
              "    <tr>\n",
              "      <th>0</th>\n",
              "      <td>Md Melon Mondol</td>\n",
              "      <td>male</td>\n",
              "    </tr>\n",
              "    <tr>\n",
              "      <th>1</th>\n",
              "      <td>Md Alauddin Khalifa</td>\n",
              "      <td>male</td>\n",
              "    </tr>\n",
              "    <tr>\n",
              "      <th>2</th>\n",
              "      <td>Dipok Das</td>\n",
              "      <td>male</td>\n",
              "    </tr>\n",
              "    <tr>\n",
              "      <th>3</th>\n",
              "      <td>Md. Faruq Hossen</td>\n",
              "      <td>male</td>\n",
              "    </tr>\n",
              "    <tr>\n",
              "      <th>4</th>\n",
              "      <td>Mst Saida Begum</td>\n",
              "      <td>female</td>\n",
              "    </tr>\n",
              "  </tbody>\n",
              "</table>\n",
              "</div>"
            ],
            "text/plain": [
              "         CUSTOMER_NAME  GENDER\n",
              "0      Md Melon Mondol    male\n",
              "1  Md Alauddin Khalifa    male\n",
              "2            Dipok Das    male\n",
              "3     Md. Faruq Hossen    male\n",
              "4      Mst Saida Begum  female"
            ]
          },
          "metadata": {
            "tags": []
          },
          "execution_count": 15
        }
      ]
    },
    {
      "cell_type": "code",
      "metadata": {
        "colab": {
          "base_uri": "https://localhost:8080/"
        },
        "id": "yc4QiGdIFqb8",
        "outputId": "3f26eb8d-e5da-4314-d620-bc2731094c2d"
      },
      "source": [
        "print(test_df.shape)\n",
        "test_df = test_df.dropna()\n",
        "print(test_df.shape)"
      ],
      "execution_count": null,
      "outputs": [
        {
          "output_type": "stream",
          "text": [
            "(620802, 2)\n",
            "(620802, 2)\n"
          ],
          "name": "stdout"
        }
      ]
    },
    {
      "cell_type": "code",
      "metadata": {
        "id": "7FK2gd85LvGT"
      },
      "source": [
        "with tf.device(\"/gpu:0\"):\n",
        "  for i in range(test_df.shape[0]):\n",
        "    temp = ''\n",
        "    for char in test_df.iloc[i, 0]:\n",
        "      if char not in removing_characters:\n",
        "        temp += char\n",
        "    test_df.iloc[i, 0] = temp\n",
        "    test_df.iloc[i, 0], test_df.iloc[i, 1] = str(test_df.iloc[i, 0]).lower(), str(test_df.iloc[i, 1]).lower()\n",
        "    if test_df.iloc[i, 1] == 'male':\n",
        "      test_df.iloc[i, 1] = 'M'\n",
        "    else:\n",
        "      test_df.iloc[i, 1] = 'F'\n",
        "  test_df.head()"
      ],
      "execution_count": null,
      "outputs": []
    },
    {
      "cell_type": "code",
      "metadata": {
        "colab": {
          "base_uri": "https://localhost:8080/"
        },
        "id": "_rBe_qRcIhKK",
        "outputId": "55c1c1cf-5b07-4395-a7ea-36dae2bbef58"
      },
      "source": [
        "with tf.device(\"/gpu:0\"):\n",
        "  final_accuracy = []\n",
        "  final_predictions = []\n",
        "  final_test_y = []\n",
        "  final_test_X = []\n",
        "  hop = 44343\n",
        "  start = 0\n",
        "  end = hop\n",
        "  while end <= test_df.shape[0]:\n",
        "    test_X, test_y = list(test_df.iloc[start:end, 0]), list(test_df.iloc[start:end, 1])\n",
        "    test_X_pred = prepare_X(test_X)\n",
        "    test_predictions = model.predict(test_X_pred)\n",
        "    final_test_predictions = ['M' if np.argmax(prediction) == 0 else 'F' for prediction in test_predictions]\n",
        "    final_test_X.append(test_X)\n",
        "    final_test_y.append(test_y)\n",
        "    final_predictions.append(final_test_predictions)\n",
        "    accuracy = accuracy_score(test_y, final_test_predictions)\n",
        "    final_accuracy.append(accuracy)\n",
        "    start += hop\n",
        "    end += hop\n",
        "    print(f\"Accuracy : {round(accuracy * 100, 2)}%\")"
      ],
      "execution_count": null,
      "outputs": [
        {
          "output_type": "stream",
          "text": [
            "Accuracy : 97.35%\n",
            "Accuracy : 96.89%\n",
            "Accuracy : 96.79%\n",
            "Accuracy : 96.48%\n",
            "Accuracy : 96.83%\n",
            "Accuracy : 97.21%\n",
            "Accuracy : 96.81%\n",
            "Accuracy : 96.79%\n",
            "Accuracy : 96.39%\n"
          ],
          "name": "stdout"
        }
      ]
    },
    {
      "cell_type": "code",
      "metadata": {
        "id": "HFN5xetQDGYc"
      },
      "source": [
        "rX = []\n",
        "rY = []\n",
        "rP = []\n",
        "for i in range(len(final_test_X)):\n",
        "  for j in range(len(final_test_X[i])):\n",
        "    rX.append(final_test_X[i][j])\n",
        "    rY.append(final_test_y[i][j])\n",
        "    rP.append(final_predictions[i][j])"
      ],
      "execution_count": null,
      "outputs": []
    },
    {
      "cell_type": "code",
      "metadata": {
        "id": "cJAIFH9_Yvb3"
      },
      "source": [
        "print(final_accuracy)"
      ],
      "execution_count": null,
      "outputs": []
    },
    {
      "cell_type": "code",
      "metadata": {
        "id": "E_0TTOm5YQ4s"
      },
      "source": [
        "print(f\"Accuracy : {round(np.mean(final_accuracy) * 100, 2)}%\")"
      ],
      "execution_count": null,
      "outputs": []
    },
    {
      "cell_type": "code",
      "metadata": {
        "id": "A3XUYN77Yqf_"
      },
      "source": [
        "result = pd.DataFrame(list(zip(rX, rY, rP)), columns=['Name', 'Original Gender', 'Predicted Gender'])\n",
        "result.to_csv('/content/drive/MyDrive/Colab Notebooks/Results/50K Results/Result(LSTM) - 0.6 Million - Run 1.csv', index=False) "
      ],
      "execution_count": null,
      "outputs": []
    },
    {
      "cell_type": "code",
      "metadata": {
        "colab": {
          "base_uri": "https://localhost:8080/"
        },
        "id": "bPHZxg_MZrIi",
        "outputId": "a9382a9c-2961-49a4-c0bf-46a61bd940a5"
      },
      "source": [
        "# result_16 = result_06 + result_10\n",
        "# result_16"
      ],
      "execution_count": null,
      "outputs": [
        {
          "output_type": "execute_result",
          "data": {
            "text/plain": [
              "[0.9241142908689083,\n",
              " 0.9131542746318472,\n",
              " 0.9089822519901676,\n",
              " 0.8998263536522112,\n",
              " 0.9096362447285931,\n",
              " 0.920009922648445,\n",
              " 0.9127257966308098,\n",
              " 0.908463568094175,\n",
              " 0.8945493087973299,\n",
              " 0.9176420179058702,\n",
              " 0.9184989739079449,\n",
              " 0.9113727082064813,\n",
              " 0.9025099790271294,\n",
              " 0.8948650294296733,\n",
              " 0.9217795579715328,\n",
              " 0.912695801444818,\n",
              " 0.8981904012588513,\n",
              " 0.9212788784779343,\n",
              " 0.9112509834775767,\n",
              " 0.8987483012660039,\n",
              " 0.9207925041127244,\n",
              " 0.9108361347543095,\n",
              " 0.8960875473857378,\n",
              " 0.921922609255418,\n",
              " 0.907488734711394,\n",
              " 0.8998784064086975,\n",
              " 0.9206208425720621,\n",
              " 0.9096917244832272,\n",
              " 0.898290537157571]"
            ]
          },
          "metadata": {
            "tags": []
          },
          "execution_count": 6
        }
      ]
    },
    {
      "cell_type": "code",
      "metadata": {
        "colab": {
          "base_uri": "https://localhost:8080/"
        },
        "id": "BgXktvLpS3OU",
        "outputId": "69028b8c-2058-4383-f963-6cb3800a2157"
      },
      "source": [
        "# print(\"==> 1 Million Test Data\\n\")\n",
        "# for i in range(len(result_10)):\n",
        "#   print(f\"Batch \\t{i+1}: {round(result_10[i] * 100, 2)} %\")\n",
        "# print(f\"Average\\t  : {round(np.mean(result_10) * 100, 2)} %\")\n",
        "\n",
        "# print(\"\\n\\n==> 0.6 Million Test Data\\n\")\n",
        "# for i in range(len(result_06)):\n",
        "#   print(f\"Batch \\t{i+1}: {round(result_06[i] * 100, 2)} %\")\n",
        "# print(f\"Average\\t  : {round(np.mean(result_06) * 100, 2)} %\")"
      ],
      "execution_count": null,
      "outputs": [
        {
          "output_type": "stream",
          "text": [
            "==> 1 Million Test Data\n",
            "\n",
            "Batch \t1: 92.18 %\n",
            "Batch \t2: 91.27 %\n",
            "Batch \t3: 89.82 %\n",
            "Batch \t4: 92.13 %\n",
            "Batch \t5: 91.13 %\n",
            "Batch \t6: 89.87 %\n",
            "Batch \t7: 92.08 %\n",
            "Batch \t8: 91.08 %\n",
            "Batch \t9: 89.61 %\n",
            "Batch \t10: 92.19 %\n",
            "Batch \t11: 90.75 %\n",
            "Batch \t12: 89.99 %\n",
            "Batch \t13: 92.06 %\n",
            "Batch \t14: 90.97 %\n",
            "Batch \t15: 89.83 %\n",
            "Average\t  : 91.0 %\n",
            "\n",
            "\n",
            "==> 0.6 Million Test Data\n",
            "\n",
            "Batch \t1: 92.41 %\n",
            "Batch \t2: 91.32 %\n",
            "Batch \t3: 90.9 %\n",
            "Batch \t4: 89.98 %\n",
            "Batch \t5: 90.96 %\n",
            "Batch \t6: 92.0 %\n",
            "Batch \t7: 91.27 %\n",
            "Batch \t8: 90.85 %\n",
            "Batch \t9: 89.45 %\n",
            "Batch \t10: 91.76 %\n",
            "Batch \t11: 91.85 %\n",
            "Batch \t12: 91.14 %\n",
            "Batch \t13: 90.25 %\n",
            "Batch \t14: 89.49 %\n",
            "Average\t  : 90.97 %\n"
          ],
          "name": "stdout"
        }
      ]
    },
    {
      "cell_type": "code",
      "metadata": {
        "colab": {
          "base_uri": "https://localhost:8080/"
        },
        "id": "M5eBqvlEZrP3",
        "outputId": "bb2f9626-c15a-40f7-babf-616591df2a80"
      },
      "source": [
        "# print(f\"Average Accuracy of 1.6 Million Data: {round(np.mean(result_16) * 100, 2)}%\")"
      ],
      "execution_count": null,
      "outputs": [
        {
          "output_type": "stream",
          "text": [
            "Average Accuracy of 1.6 Million Data: 90.99%\n"
          ],
          "name": "stdout"
        }
      ]
    },
    {
      "cell_type": "code",
      "metadata": {
        "id": "0LaFS85eIWu7"
      },
      "source": [
        "# test_X_pred = prepare_X(test_X)\n",
        "# test_predictions = model.predict(test_X_pred)\n",
        "# test_predictions"
      ],
      "execution_count": null,
      "outputs": []
    },
    {
      "cell_type": "code",
      "metadata": {
        "id": "Pz7n3XHrJS8-"
      },
      "source": [
        "# final_test_predictions = ['M' if np.argmax(prediction) == 0 else 'F' for prediction in test_predictions]"
      ],
      "execution_count": null,
      "outputs": []
    },
    {
      "cell_type": "code",
      "metadata": {
        "id": "3kV5UE22O-V3"
      },
      "source": [
        "# accuracy = accuracy_score(test_y, final_test_predictions)\n",
        "# print(f\"Accuracy : {round(accuracy * 100, 2)}%\")"
      ],
      "execution_count": null,
      "outputs": []
    },
    {
      "cell_type": "code",
      "metadata": {
        "id": "KJPIp4qkN5yt"
      },
      "source": [
        "# result = pd.DataFrame(list(zip(test_X, test_y, final_test_predictions)), columns=['Name', 'Original Gender', 'Predicted Gender'])\n",
        "# result.to_csv('/content/drive/MyDrive/Colab Notebooks/Results/Result(LSTM) - 0.6 Million.csv', index=False) "
      ],
      "execution_count": null,
      "outputs": []
    },
    {
      "cell_type": "code",
      "metadata": {
        "id": "vzdtH47FtV-A"
      },
      "source": [
        "# Average Accuracy of 0.6 Million Data: 90.97%\n",
        "# Average Accuracy of 1.0 Million Data: 91.00%\n",
        "# Average Accuracy of 1.6 Million Data: 90.99%"
      ],
      "execution_count": null,
      "outputs": []
    },
    {
      "cell_type": "code",
      "metadata": {
        "colab": {
          "base_uri": "https://localhost:8080/"
        },
        "id": "UqKzZHNQ8GnG",
        "outputId": "c6258806-0e9a-44e1-9d45-d5db760f33a5"
      },
      "source": [
        "for i in range(30):\n",
        "  print(i+1, 998575/(i+1))"
      ],
      "execution_count": null,
      "outputs": [
        {
          "output_type": "stream",
          "text": [
            "1 998575.0\n",
            "2 499287.5\n",
            "3 332858.3333333333\n",
            "4 249643.75\n",
            "5 199715.0\n",
            "6 166429.16666666666\n",
            "7 142653.57142857142\n",
            "8 124821.875\n",
            "9 110952.77777777778\n",
            "10 99857.5\n",
            "11 90779.54545454546\n",
            "12 83214.58333333333\n",
            "13 76813.46153846153\n",
            "14 71326.78571428571\n",
            "15 66571.66666666667\n",
            "16 62410.9375\n",
            "17 58739.705882352944\n",
            "18 55476.38888888889\n",
            "19 52556.57894736842\n",
            "20 49928.75\n",
            "21 47551.19047619047\n",
            "22 45389.77272727273\n",
            "23 43416.30434782609\n",
            "24 41607.291666666664\n",
            "25 39943.0\n",
            "26 38406.730769230766\n",
            "27 36984.25925925926\n",
            "28 35663.392857142855\n",
            "29 34433.620689655174\n",
            "30 33285.833333333336\n"
          ],
          "name": "stdout"
        }
      ]
    },
    {
      "cell_type": "code",
      "metadata": {
        "id": "3FEniwYC8MOw"
      },
      "source": [
        ""
      ],
      "execution_count": null,
      "outputs": []
    }
  ]
}